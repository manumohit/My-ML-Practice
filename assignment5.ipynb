{
 "cells": [
  {
   "cell_type": "code",
   "execution_count": 28,
   "metadata": {},
   "outputs": [
    {
     "data": {
      "text/plain": [
       "pandas.core.frame.DataFrame"
      ]
     },
     "execution_count": 28,
     "metadata": {},
     "output_type": "execute_result"
    }
   ],
   "source": [
    "import pandas as pd\n",
    "ds=pd.read_csv(\"C:\\\\Users\\\\PREM SINGH RATHORE\\\\Desktop\\\\prem\\\\assignment5.csv\",names=('c1','c2'))\n",
    "type(ds)"
   ]
  },
  {
   "cell_type": "code",
   "execution_count": 29,
   "metadata": {},
   "outputs": [
    {
     "data": {
      "text/plain": [
       "0      Ram\n",
       "1    Harry\n",
       "2     Shiv\n",
       "3     Lucy\n",
       "4     Shiv\n",
       "5     Jake\n",
       "6     Hana\n",
       "7    Beast\n",
       "8    Shady\n",
       "9      Nox\n",
       "Name: c1, dtype: object"
      ]
     },
     "execution_count": 29,
     "metadata": {},
     "output_type": "execute_result"
    }
   ],
   "source": [
    "ds.c1"
   ]
  },
  {
   "cell_type": "code",
   "execution_count": 30,
   "metadata": {
    "scrolled": true
   },
   "outputs": [
    {
     "data": {
      "text/plain": [
       "0    Shyam\n",
       "1    Harry\n",
       "2     Lucy\n",
       "3     Shiv\n",
       "4     Shiv\n",
       "5     Hana\n",
       "6    Beast\n",
       "7    Beast\n",
       "8    Shady\n",
       "9      Nox\n",
       "Name: c2, dtype: object"
      ]
     },
     "execution_count": 30,
     "metadata": {},
     "output_type": "execute_result"
    }
   ],
   "source": [
    "ds.c2"
   ]
  },
  {
   "cell_type": "code",
   "execution_count": 31,
   "metadata": {
    "scrolled": true
   },
   "outputs": [
    {
     "name": "stdout",
     "output_type": "stream",
     "text": [
      "0 Ram Harry\n",
      "1 Harry\n",
      "2 Shiv Lucy Shiv\n",
      "3 Lucy Shiv\n",
      "4 Shiv\n",
      "5 Jake Hana Beast\n",
      "6 Hana Beast\n",
      "7 Beast\n",
      "8 Shady\n",
      "9 Nox\n"
     ]
    }
   ],
   "source": [
    "b= ds.c1.count()\n",
    "a=[]\n",
    "for i in range (0,b):\n",
    "    if(ds.c1[i]==ds.c2[i]):\n",
    "        a.append(ds.c1[i])\n",
    "    elif ds.c1[i]!=ds.c2[i]:\n",
    "        a.append(ds.c1[i])\n",
    "        for j in range(i+1,b):\n",
    "            if ds.c1[j]!=ds.c2[j]:\n",
    "                a.append(ds.c1[j])\n",
    "            elif ds.c1[j]==ds.c2[j]:\n",
    "                a.append(ds.c1[j])\n",
    "                break;\n",
    "    print(i , *a)\n",
    "    result.append(a)\n",
    "    a[:] = []"
   ]
  },
  {
   "cell_type": "code",
   "execution_count": null,
   "metadata": {},
   "outputs": [],
   "source": []
  },
  {
   "cell_type": "code",
   "execution_count": null,
   "metadata": {},
   "outputs": [],
   "source": []
  },
  {
   "cell_type": "code",
   "execution_count": null,
   "metadata": {},
   "outputs": [],
   "source": []
  }
 ],
 "metadata": {
  "kernelspec": {
   "display_name": "Python 3",
   "language": "python",
   "name": "python3"
  },
  "language_info": {
   "codemirror_mode": {
    "name": "ipython",
    "version": 3
   },
   "file_extension": ".py",
   "mimetype": "text/x-python",
   "name": "python",
   "nbconvert_exporter": "python",
   "pygments_lexer": "ipython3",
   "version": "3.7.1"
  }
 },
 "nbformat": 4,
 "nbformat_minor": 2
}
